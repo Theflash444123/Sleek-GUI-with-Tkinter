{
 "cells": [
  {
   "cell_type": "markdown",
   "id": "ba5608bf",
   "metadata": {},
   "source": [
    "# Student Attendance Monitoring\n",
    "The program below asks the user to input the student id and displays a table with attendance % of the respective student grouped by week and displays a bar chart for the same"
   ]
  },
  {
   "cell_type": "markdown",
   "id": "adec5564",
   "metadata": {},
   "source": [
    "## Imports"
   ]
  },
  {
   "cell_type": "code",
   "execution_count": 1,
   "id": "32d129d2",
   "metadata": {},
   "outputs": [
    {
     "data": {
      "text/plain": [
       "<matplotlib.pyplot._IoffContext at 0x1ca38a93f40>"
      ]
     },
     "execution_count": 1,
     "metadata": {},
     "output_type": "execute_result"
    }
   ],
   "source": [
    "import sys\n",
    "import pandas as pd\n",
    "import sqlite3\n",
    "import numpy as np\n",
    "from ipynb.fs.defs.CW_Preprocessing import *\n",
    "import matplotlib.pyplot as plt\n",
    "plt.ioff()"
   ]
  },
  {
   "cell_type": "markdown",
   "id": "2659b6d1",
   "metadata": {},
   "source": [
    "## Student Attendance calculation program"
   ]
  },
  {
   "cell_type": "code",
   "execution_count": 2,
   "id": "058d1d56",
   "metadata": {},
   "outputs": [],
   "source": [
    "def student_attendance(student,sel_module=None):\n",
    "    \"\"\"\n",
    "    This function displays a table which shows weekly attendance of\n",
    "    selected the modules of a student\n",
    "\n",
    "    Parameters\n",
    "    ----------\n",
    "    student : int\n",
    "        Student ID.\n",
    "    sel_module : list, optional\n",
    "        list of selected modules. The default is None.\n",
    "\n",
    "    Returns\n",
    "    -------\n",
    "    output : TYPE\n",
    "        DESCRIPTION.\n",
    "\n",
    "    \"\"\"\n",
    "    \n",
    "    if sel_module == None:\n",
    "        table_list, sel_module, connection = sql_tables() \n",
    "    else:\n",
    "        t, m, connection = sql_tables() \n",
    "    df_list = []\n",
    "    for module in sel_module:\n",
    "        sql_query = f'select Week,count(Attendance) as tot_classes,\\\n",
    "        sum(Attendance) as att_classes \\\n",
    "        from att_{module} inner join session_{module} \\\n",
    "        on att_{module}.Session_id = session_{module}.Session_id \\\n",
    "        where Student_ID={student} group by week '\n",
    "        df = pd.read_sql_query(sql_query,connection)\n",
    "        if df.empty:\n",
    "            message= f\"Student ID not present in {module}\"\n",
    "            print(message)\n",
    "        else:\n",
    "            df[module] = round((df[\"att_classes\"]/df[\"tot_classes\"])*100,0)\n",
    "            df.drop([\"att_classes\",\"tot_classes\"],axis=1,inplace = True)\n",
    "            df_list.append(df)\n",
    "    \n",
    "    if len(df_list) == 0:\n",
    "        output = \"Student record not available in the selected modules\"\n",
    "        return output\n",
    "    else:\n",
    "        if len(df_list) !=1:\n",
    "            df = df_list[0]\n",
    "            for i in range(1,len(df_list)):\n",
    "                df = df.merge(df_list[i],how=\"outer\",on=\"Week\")\n",
    "        else:\n",
    "            df = df_list[0]\n",
    "        df[\"Week\"]=df[\"Week\"].astype(str)\n",
    "        colors = df.applymap(color_cells)\n",
    "        output,(ax1,ax2) = plt.subplots(1,2,figsize=(10, 4))\n",
    "        output.patch.set_facecolor('#e7e5e6')\n",
    "        df.plot(kind = \"bar\",x=\"Week\",y=sel_module, ax=ax2,)\n",
    "        ax2.set_ylabel(\"Attendance %\")\n",
    "        table = ax1.table(cellText=df.values,\n",
    "                          colLabels=df.columns,\n",
    "                          cellColours=colors.values,\n",
    "                          loc = 'center',cellLoc='center')\n",
    "        ax1.axis('off')\n",
    "        table.scale(1,2)\n",
    "        plt.subplots_adjust(wspace = 0.35)        \n",
    "        # table.set_fontsize(20)\n",
    "        # plt.show()\n",
    "    return output\n",
    "    connection.close()"
   ]
  },
  {
   "cell_type": "markdown",
   "id": "3d8e04fe",
   "metadata": {},
   "source": [
    "## Student Record\n",
    "Select the student ID"
   ]
  },
  {
   "cell_type": "code",
   "execution_count": 3,
   "id": "88895227",
   "metadata": {},
   "outputs": [
    {
     "name": "stdout",
     "output_type": "stream",
     "text": [
      "Enter Student ID : 3\n"
     ]
    },
    {
     "data": {
      "image/png": "[encoded data removed]",
      "text/plain": [
       "<Figure size 720x288 with 2 Axes>"
      ]
     },
     "execution_count": 3,
     "metadata": {},
     "output_type": "execute_result"
    }
   ],
   "source": [
    "student_attendance(int(input(\"Enter Student ID : \")))"
   ]
  }
 ],
 "metadata": {
  "kernelspec": {
   "display_name": "Python 3",
   "language": "python",
   "name": "python3"
  },
  "language_info": {
   "codemirror_mode": {
    "name": "ipython",
    "version": 3
   },
   "file_extension": ".py",
   "mimetype": "text/x-python",
   "name": "python",
   "nbconvert_exporter": "python",
   "pygments_lexer": "ipython3",
   "version": "3.9.5"
  }
 },
 "nbformat": 4,
 "nbformat_minor": 5
}
