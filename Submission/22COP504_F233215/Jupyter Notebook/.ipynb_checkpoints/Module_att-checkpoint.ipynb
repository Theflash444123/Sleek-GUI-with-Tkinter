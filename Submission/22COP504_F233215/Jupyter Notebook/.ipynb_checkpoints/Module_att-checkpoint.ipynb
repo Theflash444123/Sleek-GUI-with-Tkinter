{
 "cells": [
  {
   "cell_type": "markdown",
   "id": "d29b8149",
   "metadata": {},
   "source": [
    "# Module Attendance Monitoring"
   ]
  },
  {
   "cell_type": "code",
   "execution_count": 4,
   "id": "260d5058",
   "metadata": {},
   "outputs": [],
   "source": [
    "import pandas as pd\n",
    "import sqlite3\n",
    "import numpy as np\n",
    "import matplotlib.pyplot as plt\n",
    "from ipynb.fs.defs.CW_Preprocessing import *\n",
    "import matplotlib.pyplot as plt\n",
    "#plt.ioff()"
   ]
  },
  {
   "cell_type": "markdown",
   "id": "63958979",
   "metadata": {},
   "source": [
    "## Attendance calculation program"
   ]
  },
  {
   "cell_type": "code",
   "execution_count": 5,
   "id": "7ca9dbce",
   "metadata": {},
   "outputs": [],
   "source": [
    "def module_attendance(week,module):\n",
    "    \"\"\"\n",
    "    This function returns a table with attendance details\n",
    "    of a module grouped by week\n",
    "\n",
    "    Parameters\n",
    "    ----------\n",
    "    week : str\n",
    "        Week number.\n",
    "    module : str\n",
    "        Name of the module.\n",
    "\n",
    "    Returns\n",
    "    -------\n",
    "    matplotlib.figure.Figure : Table containing the attendance details by\n",
    "    week and module\n",
    "       \n",
    "\n",
    "    \"\"\"\n",
    "    \n",
    "    table_list, modules, connection = sql_tables() \n",
    "    sql_query =f\"select Start_time,Room,Class,sum(Attendance) as classes_att, count(Attendance) as tot_att \\\n",
    "    from session_{module} inner join att_{module} \\\n",
    "    on att_{module}.Session_id = session_{module}.Session_id \\\n",
    "    where week={week} \\\n",
    "    group by Start_time\"\n",
    "    df = pd.read_sql_query(sql_query,connection)\n",
    "    if df.empty:\n",
    "        message= f\"Week {week} is not present in the {module}.Please enter a valid week number\"\n",
    "        return message\n",
    "    else:\n",
    "        df[\"Attendance %\"] = round((df[\"classes_att\"]/df[\"tot_att\"])*100,1)\n",
    "        df.drop([\"classes_att\",\"tot_att\"],axis=1,inplace=True)\n",
    "        colors = df.applymap(color_cells)\n",
    "        fig,ax = plt.subplots(figsize=(10, 4))\n",
    "        fig.patch.set_facecolor('#e7e5e6')\n",
    "        ax.axis('tight')\n",
    "        ax.axis('off')\n",
    "        table = ax.table(cellText=df.values,colLabels=df.columns,cellColours=colors.values, loc = 'center',cellLoc='center')\n",
    "        table.scale(1,2)\n",
    "        plt.close()\n",
    "        return fig\n",
    "        \n",
    "        connection.close()\n",
    "    "
   ]
  },
  {
   "cell_type": "markdown",
   "id": "836d7b00",
   "metadata": {},
   "source": [
    "# Testing\n",
    "## Select Module and Week "
   ]
  },
  {
   "cell_type": "code",
   "execution_count": 6,
   "id": "542c798c",
   "metadata": {},
   "outputs": [
    {
     "name": "stdout",
     "output_type": "stream",
     "text": [
      "Modules available in the database are\n",
      "['22COA111', '22COA122']\n"
     ]
    }
   ],
   "source": [
    "print(\"Modules available in the database are\")\n",
    "print(sql_tables()[1])"
   ]
  },
  {
   "cell_type": "code",
   "execution_count": 7,
   "id": "3d5a33b1",
   "metadata": {},
   "outputs": [
    {
     "name": "stdout",
     "output_type": "stream",
     "text": [
      "Enter week number : 3\n",
      "Enter module name : 22COA111\n"
     ]
    },
    {
     "data": {
      "image/png": "[encoded data removed]",
      "text/plain": [
       "<Figure size 720x288 with 1 Axes>"
      ]
     },
     "execution_count": 7,
     "metadata": {},
     "output_type": "execute_result"
    }
   ],
   "source": [
    "week = int(input(\"Enter week number : \"))\n",
    "module = input(\"Enter module name : \")\n",
    "module_attendance(week,module)    "
   ]
  }
 ],
 "metadata": {
  "kernelspec": {
   "display_name": "Python 3",
   "language": "python",
   "name": "python3"
  },
  "language_info": {
   "codemirror_mode": {
    "name": "ipython",
    "version": 3
   },
   "file_extension": ".py",
   "mimetype": "text/x-python",
   "name": "python",
   "nbconvert_exporter": "python",
   "pygments_lexer": "ipython3",
   "version": "3.9.5"
  }
 },
 "nbformat": 4,
 "nbformat_minor": 5
}
