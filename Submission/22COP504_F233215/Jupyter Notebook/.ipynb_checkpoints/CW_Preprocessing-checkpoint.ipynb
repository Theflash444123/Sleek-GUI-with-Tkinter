{
 "cells": [
  {
   "cell_type": "markdown",
   "id": "94decf41",
   "metadata": {},
   "source": [
    "#  Data Preprocessing"
   ]
  },
  {
   "cell_type": "markdown",
   "id": "9574b893",
   "metadata": {},
   "source": [
    "## Imports"
   ]
  },
  {
   "cell_type": "code",
   "execution_count": 34,
   "id": "dd02b1c2",
   "metadata": {},
   "outputs": [],
   "source": [
    "import pandas as pd\n",
    "import sqlite3\n",
    "import os\n",
    "from os import listdir\n",
    "import numpy as np\n",
    "from tkinter import filedialog"
   ]
  },
  {
   "cell_type": "markdown",
   "id": "41ff7de4",
   "metadata": {},
   "source": [
    "## Colour styling"
   ]
  },
  {
   "cell_type": "code",
   "execution_count": 35,
   "id": "c0b4a9d2",
   "metadata": {},
   "outputs": [],
   "source": [
    "def color_cells(val):\n",
    "    \"\"\"\n",
    "    This function returns a color based on a specific value\n",
    "\n",
    "    Parameters\n",
    "    ----------\n",
    "    val :   float\n",
    "            Value based on which the color has to be rturned\n",
    "\n",
    "    Returns\n",
    "    -------\n",
    "    str :   Color hex code as a string\n",
    "\n",
    "    \"\"\"\n",
    "    if isinstance(val, (int, float)):\n",
    "        if val < 50:\n",
    "            return '#B81D13'\n",
    "        elif val >= 50 and val<80:\n",
    "            return '#EFB700'\n",
    "        elif val >=80:\n",
    "            return '#008450'\n",
    "        else:\n",
    "            return '#e7e5e6'\n",
    "    else:\n",
    "        return '#e7e5e6'"
   ]
  },
  {
   "cell_type": "markdown",
   "id": "95c9bb2d",
   "metadata": {},
   "source": [
    "## Retrieving Table name, module name and connection"
   ]
  },
  {
   "cell_type": "code",
   "execution_count": 36,
   "id": "00ab4454",
   "metadata": {},
   "outputs": [],
   "source": [
    "def sql_tables(db =\"CWDatabase.db\"):\n",
    "    \"\"\"\n",
    "    This function connects with a database to retrieve the modules,tables\\\n",
    "    and sqllite3 connection for further operation\n",
    "\n",
    "    Parameters\n",
    "    ----------\n",
    "    db : str, optional\n",
    "        Name of the database to connect to. The default is \"CWDatabase.db\".\n",
    "\n",
    "    Returns\n",
    "    -------\n",
    "    table_list : list\n",
    "        List of tables in the database.\n",
    "    modules : list\n",
    "        Module names in the database..\n",
    "    connection : sqlite3.Connection\n",
    "        \n",
    "    \"\"\"\n",
    "    connection = sqlite3.connect(db)\n",
    "    cursor = connection.cursor()\n",
    "    sql_query = \"SELECT name FROM sqlite_master WHERE type='table';\"\n",
    "    cursor.execute(sql_query)\n",
    "    table_list = cursor.fetchall()\n",
    "    modules = []\n",
    "    for i in range(0,len(table_list),2):\n",
    "        modules.append(table_list[i][0][-8:])\n",
    "    \n",
    "    return table_list, modules ,connection\n",
    "    connection.close()"
   ]
  },
  {
   "cell_type": "markdown",
   "id": "73210ac4",
   "metadata": {},
   "source": [
    "## Module Data"
   ]
  },
  {
   "cell_type": "code",
   "execution_count": 37,
   "id": "2d797a1f",
   "metadata": {},
   "outputs": [],
   "source": [
    "def module_data():\n",
    "    \"\"\"\n",
    "    Returns the list of students and weeks available in the database.\n",
    "    Can be expanded to retrieve other module attributes\n",
    "\n",
    "    Returns\n",
    "    -------\n",
    "    student_list : dictionary\n",
    "        Data containing Student ID for each module.\n",
    "    week_list : dictionary\n",
    "        Data containing Week number for each module.\n",
    "\n",
    "    \"\"\"\n",
    "    table_list,modules,connection = sql_tables()\n",
    "    student_list = {}\n",
    "    week_list = {}\n",
    "    for module in modules:\n",
    "        sql_query1 = f\"SELECT Student_ID FROM att_{module}\"\n",
    "        sql_query2 = f\"SELECT Week FROM session_{module}\"\n",
    "        df_attendance = pd.read_sql_query(sql_query1,connection)\n",
    "        df_session = pd.read_sql_query(sql_query2,connection)\n",
    "        student_list[module] = list(df_attendance[\"Student_ID\"].unique())\n",
    "        week_list[module] = list(df_session[\"Week\"].unique())\n",
    "    \n",
    "    return student_list , week_list\n",
    "    connection.close()"
   ]
  },
  {
   "cell_type": "markdown",
   "id": "8c8fb9ce",
   "metadata": {},
   "source": [
    "## Files to update in Database"
   ]
  },
  {
   "cell_type": "code",
   "execution_count": 38,
   "id": "206b9c18",
   "metadata": {},
   "outputs": [],
   "source": [
    "def data_to_update(path):\n",
    "    \"\"\"\n",
    "    This function returns the filenames of the data of specific module that\n",
    "    is not currently available in the database need to be updated\n",
    "\n",
    "    Parameters\n",
    "    ----------\n",
    "    path : str, optional\n",
    "        Filepath containing the location of raw data which needs to be\n",
    "        updated to the database. The default is filepath.\n",
    "\n",
    "    Returns\n",
    "    -------\n",
    "    filenames : str\n",
    "        Filenames to be processed and updated to the SQLlite database.\n",
    "\n",
    "    \"\"\"\n",
    "    \n",
    "    filenames = listdir(path)\n",
    "    files = [path+\"\\\\\"+filename for filename in filenames\\\n",
    "             if filename.endswith(\".csv\")]\n",
    "    existing_modules = sql_tables()[1]\n",
    "    \n",
    "    filenames = []\n",
    "    for file in files:\n",
    "        if os.path.basename(file)[:8] not in existing_modules:\n",
    "            filenames.append(file)\n",
    "            \n",
    "    return filenames"
   ]
  },
  {
   "cell_type": "markdown",
   "id": "988ce513",
   "metadata": {},
   "source": [
    "## Data Cleaning"
   ]
  },
  {
   "cell_type": "code",
   "execution_count": 39,
   "id": "f04a0b33",
   "metadata": {},
   "outputs": [],
   "source": [
    "def data_cleaning(path):\n",
    "    \"\"\"\n",
    "    This function reads the csv file and cleans the raw data from the csv file and update the data\n",
    "    into sqllite database\n",
    "\n",
    "    Parameters\n",
    "    ----------\n",
    "    path : str\n",
    "        complete filename.\n",
    "\n",
    "    Returns\n",
    "    -------\n",
    "    df_final_cleaned : pandas dataframe\n",
    "        Cleaned dataset containing Student's attendance \n",
    "    df_session : pandas dataframe\n",
    "        Cleaned dataset containing session details of the module\n",
    "    name : str\n",
    "        Module name.\n",
    "\n",
    "    \"\"\"    \n",
    "    \n",
    "    name = os.path.basename(path)[:8]\n",
    "    df_raw = pd.read_csv(path)\n",
    "    \n",
    "    df_cleaned = df_raw.set_index(df_raw.columns[0])\n",
    "    # df_cleaned = df_cleaned.T\n",
    "    df_cleaned = df_cleaned.replace(\"Ex\",np.nan)    # replacing the attendance\n",
    "    df_cleaned.replace(\"GPS\", True ,inplace = True) # with boolean and nan\n",
    "    df_cleaned.replace(\"X\", False ,inplace = True)\n",
    "    df_cleaned = df_cleaned.dropna(axis = 1, how = \"all\") # removing rwos and\n",
    "    df_cleaned = df_cleaned.dropna(axis = 0, how = \"all\") # columns with all Nan values\n",
    "\n",
    "    # Creating a new sessions dataframe to link cleaned dataframe columns\n",
    "    # with session details\n",
    "    \n",
    "    df_session = pd.DataFrame(list(df_cleaned.columns))\n",
    "    df_session = df_session[0].str.split(\"\\n\",expand=True)\n",
    "    df_session[[\"Day\",\"Date\"]] = df_session[1].str.split(expand=True)\n",
    "    df_session[[\"Start_time\",2,\"End_time\"]] = \\\n",
    "                                        df_session[2].str.split(expand=True)\n",
    "    df_session[[\"Semester\",\"Week\"]] = \\\n",
    "                    df_session[0].apply(lambda x: pd.Series(str(x).split(\".\")))\n",
    "    df_session[\"Semester\"] = \\\n",
    "        df_session[\"Semester\"].apply( \\\n",
    "                                    lambda x: pd.Series(str(x)[1])).astype(int)\n",
    "    df_session[\"Week\"] = df_session[\"Week\"].apply(\\\n",
    "                                    lambda x: pd.Series(str(x)[1])).astype(int)\n",
    "    df_session[\"Date\"] = df_session[\"Date\"].apply(lambda x: pd.Series(x[1:-1]))\n",
    "    col_dict = {3:\"Class\",4:\"Room\"}\n",
    "    df_session.rename(columns= col_dict,inplace = True)\n",
    "    df_session.index.name = \"Session_id\"\n",
    "    df_session = df_session.drop([0,1,2,5], axis = 1)\n",
    "    df_cleaned.columns = list(range(0,len(df_session)))\n",
    "    df_cleaned = df_cleaned.T\n",
    "    df_cleaned.reset_index(inplace=True)\n",
    "    df_cleaned.columns.values[0] = \"Session_id\"\n",
    "    \n",
    "    df_cleaned = pd.melt(df_cleaned,\n",
    "                               id_vars=\"Session_id\",\n",
    "                               value_vars=df_cleaned.columns[1:])\n",
    "    df_cleaned.columns.values[1] = \"Student_ID\"\n",
    "    df_cleaned.columns.values[2] = \"Attendance\"\n",
    "\n",
    "    \n",
    "    return ( df_cleaned,df_session,name)"
   ]
  },
  {
   "cell_type": "markdown",
   "id": "32d4846d",
   "metadata": {},
   "source": [
    "## Dataframe to SQL"
   ]
  },
  {
   "cell_type": "code",
   "execution_count": 40,
   "id": "06586ae7",
   "metadata": {},
   "outputs": [],
   "source": [
    "def df_to_sql_table(df_cleaned,df_session,name):\n",
    "    \"\"\"\n",
    "    Converts the cleaned dataframes into sql table and updates it\n",
    "    into the database\n",
    "\n",
    "    Parameters\n",
    "    ----------\n",
    "    df_cleaned : pandas dataframe\n",
    "        Cleaned dataset containing Student's attendance. \n",
    "    df_session : pandas dataframe\n",
    "        Cleaned dataset containing session details of the module.\n",
    "    name : str\n",
    "        Module name.\n",
    "\n",
    "    Returns\n",
    "    -------\n",
    "    None.\n",
    "\n",
    "    \"\"\"\n",
    "    \n",
    "    connection = sqlite3.connect(\"CWDatabase.db\")\n",
    "    att = str(\"att_\"+name)\n",
    "    session = str(\"session_\"+name)\n",
    "    att_dtype = {\"index\": \"INTEGER\",\n",
    "                 \"Session_id\": \"INTEGER\",\n",
    "                 \"Student_ID\": \"INTEGER\",\n",
    "                 \"Attendance\":\"BOOLEAN\"}\n",
    "    session_dtype = {\"Session_id\": \"INTEGER\",\n",
    "                     \"Class\":\"VARCHAR(20)\",\n",
    "                     \"Room\":\"VARCHAR(20)\",\n",
    "                     \"Day\":\"VARCHAR(20)\",\n",
    "                     \"Date\":\"DATE\",\n",
    "                     \"Start_time\":\"DATETIME\",\n",
    "                     \"End_time\":\"VARCHAR(20)\",\n",
    "                     \"Semester\":\"INTEGER\",\n",
    "                     \"Week\":\"INTEGER\"}\n",
    "    df_cleaned.to_sql(att,connection,if_exists = 'replace',\n",
    "                      dtype= att_dtype)\n",
    "    df_session.to_sql(session,connection,\n",
    "                      if_exists = 'replace',dtype=session_dtype)\n",
    "\n",
    "    # cursor.close()\n",
    "    connection.close()"
   ]
  },
  {
   "cell_type": "markdown",
   "id": "a071e5df",
   "metadata": {},
   "source": [
    "## Add data to database"
   ]
  },
  {
   "cell_type": "code",
   "execution_count": 41,
   "id": "57ab8c4e",
   "metadata": {},
   "outputs": [],
   "source": [
    "def add_data():\n",
    "    \"\"\"\n",
    "    Prompts the user to select a specific file from the computer to be updated\n",
    "    into the sql database.\n",
    "    This function will replace the data in the database for the specific\n",
    "    module even if it is already existing in the database.\n",
    "\n",
    "    Returns\n",
    "    -------\n",
    "    name_list : TYPE\n",
    "        DESCRIPTION.\n",
    "\n",
    "    \"\"\"\n",
    "    \n",
    "    files = filedialog.askopenfilename(title  =\n",
    "                                       \"Enter the csv files for each module\", \n",
    "                                       #title = \"File Selection\",\n",
    "                                       filetypes = [(\"CSV files\", \"*.csv\")],\n",
    "                                       multiple = True)\n",
    "    if len(files) == 0:\n",
    "        name_list = False\n",
    "    else:\n",
    "        name_list = []\n",
    "        for file in files:\n",
    "            name = os.path.basename(file)[:8]\n",
    "            name_list.append(name)\n",
    "        for file in files:\n",
    "            df1,df2,name = data_cleaning(file)\n",
    "            df_to_sql_table(df1,df2,name)\n",
    "        else:\n",
    "            print(\"DATABASE UPTO DATE\")\n",
    "    \n",
    "    return name_list"
   ]
  },
  {
   "cell_type": "markdown",
   "id": "c5d651bb",
   "metadata": {},
   "source": [
    "## Main function"
   ]
  },
  {
   "cell_type": "code",
   "execution_count": 42,
   "id": "ed68f762",
   "metadata": {},
   "outputs": [],
   "source": [
    "def data_processing():\n",
    "    \"\"\"\n",
    "    This function runs the data cleaning and processing for files present in\n",
    "    the raw data storing folder which are not updated in the database\n",
    "\n",
    "    Returns\n",
    "    -------\n",
    "    name_list : list\n",
    "        List containing names of modules updated into the database.\n",
    "\n",
    "    \"\"\"\n",
    "    filepath = 'data/'\n",
    "    files = data_to_update(filepath)\n",
    "    for file in files:\n",
    "        df1,df2,name = data_cleaning(file)\n",
    "        df_to_sql_table(df1,df2,name)\n",
    "    \n",
    "    name_list = []\n",
    "    for file in files:\n",
    "        name = os.path.basename(file)[:8]\n",
    "        name_list.append(name)\n",
    "    if not __name__ == '__main__':\n",
    "        return name_list"
   ]
  },
  {
   "cell_type": "markdown",
   "id": "42880e93",
   "metadata": {},
   "source": [
    "# Testing"
   ]
  },
  {
   "cell_type": "code",
   "execution_count": 43,
   "id": "8592ddad",
   "metadata": {},
   "outputs": [
    {
     "name": "stdout",
     "output_type": "stream",
     "text": [
      "Database upto date\n"
     ]
    }
   ],
   "source": [
    "Run_data_processing = data_processing()\n",
    "if type(Run_data_processing) == str:\n",
    "        print(\"The following module data uploaded to database :\",name_list)\n",
    "else:\n",
    "    print(\"Database upto date\")"
   ]
  }
 ],
 "metadata": {
  "kernelspec": {
   "display_name": "Python 3",
   "language": "python",
   "name": "python3"
  },
  "language_info": {
   "codemirror_mode": {
    "name": "ipython",
    "version": 3
   },
   "file_extension": ".py",
   "mimetype": "text/x-python",
   "name": "python",
   "nbconvert_exporter": "python",
   "pygments_lexer": "ipython3",
   "version": "3.9.5"
  }
 },
 "nbformat": 4,
 "nbformat_minor": 5
}
