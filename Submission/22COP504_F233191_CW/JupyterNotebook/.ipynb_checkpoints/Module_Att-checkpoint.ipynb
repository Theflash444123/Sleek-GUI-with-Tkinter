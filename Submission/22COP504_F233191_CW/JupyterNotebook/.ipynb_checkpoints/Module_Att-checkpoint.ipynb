{
 "cells": [
  {
   "cell_type": "markdown",
   "id": "ad79e55a",
   "metadata": {},
   "source": [
    "# Module Weekly Attendance Visualization\n",
    "This script allows you to visualize the average attendance of a module and a week. You can choose the module and week from the drop-down menus."
   ]
  },
  {
   "cell_type": "markdown",
   "id": "eb9d0928",
   "metadata": {},
   "source": [
    "### Importing necessary libraries"
   ]
  },
  {
   "cell_type": "code",
   "execution_count": 10,
   "id": "d45ed3cc",
   "metadata": {},
   "outputs": [],
   "source": [
    "import pandas as pd\n",
    "import numpy as np\n",
    "import matplotlib.pyplot as plt\n",
    "import os\n",
    "\n",
    "# from CW_Preprocessing import *\n",
    "import ipynb\n",
    "from ipynb.fs.defs.CW_Preprocessing import *\n",
    "from ipywidgets import widgets, Label\n",
    "from IPython import get_ipython"
   ]
  },
  {
   "cell_type": "markdown",
   "id": "4980b53d",
   "metadata": {},
   "source": [
    "### Main Function"
   ]
  },
  {
   "cell_type": "code",
   "execution_count": 11,
   "id": "f1486af1",
   "metadata": {},
   "outputs": [],
   "source": [
    "def get_module_att_fig(module_name, week_list):\n",
    "    \"\"\"\n",
    "    create a table of average attendance for a specific module and week.\n",
    "\n",
    "    Parameters:\n",
    "        module_name (str): The name of the module\n",
    "        week_list (list): A list of weeks\n",
    "\n",
    "    Returns:\n",
    "        matplotlib.figure.Figure : The figure object of the table plot.\n",
    "    \"\"\"\n",
    "\n",
    "    att_df = ModuleRecord(module_name).wide_to_long()\n",
    "    att_df = att_df[att_df.week.isin(week_list)]\n",
    "\n",
    "    gb_att_df = att_df.groupby([\"time\", \"lab_code\", \"session_type\"], as_index=False)\n",
    "    module_att_table = gb_att_df.agg({\"att\": \"mean\"})\n",
    "    module_att_table[\"att\"] = (module_att_table[\"att\"]*100).round(1)\n",
    "\n",
    "    cellcolors = []\n",
    "    for row in range(module_att_table.shape[0]):\n",
    "        row_colors = []\n",
    "        for col in range(module_att_table.shape[1]):\n",
    "            if col ==3:\n",
    "                if module_att_table.iloc[row, col] <= 50:\n",
    "                    row_colors.append(\"#DB3236\")\n",
    "                elif 50 < module_att_table.iloc[row, col] <= 75:\n",
    "                    row_colors.append(\"#F4C20D\")\n",
    "                elif 75 < module_att_table.iloc[row, col] <= 100:\n",
    "                    row_colors.append(\"#3CBA54\")\n",
    "                else:\n",
    "                    row_colors.append(\"#FFFFFF\")\n",
    "            else:\n",
    "                row_colors.append(\"#FFFFFF\")\n",
    "        cellcolors.append(row_colors)\n",
    "\n",
    "    fig, ax = plt.subplots()\n",
    "    ax.axis('off')\n",
    "    ax.axis('tight')\n",
    "    ax.table(cellText=module_att_table.values, \n",
    "             cellColours=cellcolors, \n",
    "             colLabels=module_att_table.columns, \n",
    "             loc='center')\n",
    "\n",
    "    return fig\n",
    "\n",
    "\n",
    "\n"
   ]
  },
  {
   "cell_type": "markdown",
   "id": "32dfd5c4",
   "metadata": {},
   "source": [
    "### Testing"
   ]
  },
  {
   "cell_type": "code",
   "execution_count": 12,
   "id": "c660dee8",
   "metadata": {},
   "outputs": [],
   "source": [
    "\n",
    "def main_py():\n",
    "    \"\"\"\n",
    "    This function will be executed if the file is run as a standalone\n",
    "    .py script.\n",
    "    \"\"\"\n",
    "    module = input(\"Please Enter Module\")\n",
    "    week = input(\"Please Enter Week\")\n",
    "    get_module_att_fig(module, [week])\n",
    "    plt.show(block=False)\n",
    "\n",
    "\n",
    "def main_ipynb():\n",
    "    \"\"\"\n",
    "    This function will be executed if the file is run as a standalone\n",
    "    .ipynb script.\n",
    "    \"\"\"\n",
    "    module = module_dd.value\n",
    "    week = week_dd.value\n",
    "    get_module_att_fig(module, [week])\n",
    "    plt.show(block=False)\n"
   ]
  },
  {
   "cell_type": "code",
   "execution_count": 13,
   "id": "ae9ab52a",
   "metadata": {},
   "outputs": [
    {
     "data": {
      "application/vnd.jupyter.widget-view+json": {
       "model_id": "09aaf5a31edc499d8f2574ccda7db6bd",
       "version_major": 2,
       "version_minor": 0
      },
      "text/plain": [
       "Label(value='Module:')"
      ]
     },
     "metadata": {},
     "output_type": "display_data"
    },
    {
     "data": {
      "application/vnd.jupyter.widget-view+json": {
       "model_id": "d4e5351f2f73419a8683dc67e811cb0e",
       "version_major": 2,
       "version_minor": 0
      },
      "text/plain": [
       "Dropdown(options=('22COA111', '22COA122'), value='22COA111')"
      ]
     },
     "metadata": {},
     "output_type": "display_data"
    },
    {
     "data": {
      "application/vnd.jupyter.widget-view+json": {
       "model_id": "81f62cd6359244039464a50bd8d8477a",
       "version_major": 2,
       "version_minor": 0
      },
      "text/plain": [
       "Label(value='Week:')"
      ]
     },
     "metadata": {},
     "output_type": "display_data"
    },
    {
     "data": {
      "application/vnd.jupyter.widget-view+json": {
       "model_id": "681ed950d26944d2b5558703144de1f8",
       "version_major": 2,
       "version_minor": 0
      },
      "text/plain": [
       "Dropdown(options=('W1', 'W2', 'W3', 'W4', 'W5'), value='W1')"
      ]
     },
     "metadata": {},
     "output_type": "display_data"
    }
   ],
   "source": [
    "if __name__ == \"__main__\":\n",
    "    \"\"\"\n",
    "    The script checks if the script is running in an ipython environment or \n",
    "    not and calls the appropriate main function. \n",
    "    \"\"\"\n",
    "    shell = get_ipython()\n",
    "    if type(shell).__name__ == 'ZMQInteractiveShell':\n",
    "        ipython = get_ipython()\n",
    "        ipython.run_line_magic(\"matplotlib\", \"qt\")\n",
    "\n",
    "        module_list = get_modules_list()\n",
    "        module_dd = widgets.Dropdown(options=module_list)\n",
    "        module_label = Label(value='Module:')\n",
    "        display(module_label, module_dd)\n",
    "\n",
    "        week_list = ModuleRecord(module_dd.value).week_list()\n",
    "        week_dd = widgets.Dropdown(options=week_list)\n",
    "        week_label = Label(value='Week:')\n",
    "        display(week_label, week_dd)\n",
    "\n",
    "        def update_week_dd(*args):\n",
    "            week_list = ModuleRecord(module_dd.value).week_list()\n",
    "            week_dd.options = week_list\n",
    "\n",
    "\n",
    "        module_dd.observe(update_week_dd, 'value')\n",
    "\n",
    "        def on_select_week_dd(change):\n",
    "            if module_dd.value is not None and change.new is not None:\n",
    "                main_ipynb()\n",
    "\n",
    "        week_dd.observe(on_select_week_dd, 'value')\n",
    "\n",
    "    else:\n",
    "        main_py()"
   ]
  }
 ],
 "metadata": {
  "kernelspec": {
   "display_name": "Python 3 (ipykernel)",
   "language": "python",
   "name": "python3"
  },
  "language_info": {
   "codemirror_mode": {
    "name": "ipython",
    "version": 3
   },
   "file_extension": ".py",
   "mimetype": "text/x-python",
   "name": "python",
   "nbconvert_exporter": "python",
   "pygments_lexer": "ipython3",
   "version": "3.8.5"
  }
 },
 "nbformat": 4,
 "nbformat_minor": 5
}
