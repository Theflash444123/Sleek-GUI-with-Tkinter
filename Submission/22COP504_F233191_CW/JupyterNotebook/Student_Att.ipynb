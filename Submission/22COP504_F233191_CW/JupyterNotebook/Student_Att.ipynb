{
 "cells": [
  {
   "cell_type": "markdown",
   "id": "47fd7939",
   "metadata": {},
   "source": [
    "#  Student weekly Attendance Visualisation"
   ]
  },
  {
   "cell_type": "markdown",
   "id": "182c146d",
   "metadata": {},
   "source": [
    "### Importing necessary libraries"
   ]
  },
  {
   "cell_type": "code",
   "execution_count": 27,
   "id": "ed2e4a99",
   "metadata": {},
   "outputs": [],
   "source": [
    "import pandas as pd\n",
    "import matplotlib.pyplot as plt\n",
    "import numpy as np\n",
    "import tkinter as tk\n",
    "from tkinter import messagebox\n",
    "\n",
    "# from CW_Preprocessing import *\n",
    "\n",
    "import ipynb\n",
    "from ipynb.fs.defs.CW_Preprocessing import *\n",
    "from ipywidgets import widgets\n",
    "from IPython import get_ipython"
   ]
  },
  {
   "cell_type": "markdown",
   "id": "962c6c52",
   "metadata": {},
   "source": [
    "### The StudentAtt class"
   ]
  },
  {
   "cell_type": "code",
   "execution_count": 28,
   "id": "930b36ca",
   "metadata": {},
   "outputs": [],
   "source": [
    "class StudentAtt:\n",
    "    \"\"\"\n",
    "    A class for visualizing student attendance records.\n",
    "    \"\"\"\n",
    "    def __init__(self, student_id, modules_selected):\n",
    "        \"\"\"\n",
    "        Initializes the class with student_id and modules_selected.\n",
    "\n",
    "        Parameters:\n",
    "        student_id (int): The id of the student whose attendance records are to\n",
    "        be visualized.\n",
    "        modules_selected (list): A list of module codes for which the attendance\n",
    "        records are to be visualized.\n",
    "        \"\"\"\n",
    "        self.sid = student_id\n",
    "        self.modules_selected = modules_selected\n",
    "        self.selected_student_df = self.get_selected_student_df()\n",
    "        self.pivot_table = self.pivot_table()\n",
    "\n",
    "    def get_selected_modules_df(self):\n",
    "        \"\"\"\n",
    "        Returns:\n",
    "        DataFrame: A DataFrame containing attendance records of the selected\n",
    "        modules for the given student.\n",
    "        \"\"\"\n",
    "        selected_modules_df = pd.DataFrame()\n",
    "        for module in self.modules_selected:\n",
    "            att_df = ModuleRecord(module).wide_to_long()\n",
    "            selected_modules_df = pd.concat([selected_modules_df, att_df])\n",
    "\n",
    "        return selected_modules_df\n",
    "\n",
    "    def get_selected_student_df(self):\n",
    "        selected_modules_df = self.get_selected_modules_df()\n",
    "        selected_student_df = selected_modules_df[\n",
    "            selected_modules_df.sid.isin(self.sid)]\n",
    "        return selected_student_df\n",
    "\n",
    "    def pivot_table(self):\n",
    "        \"\"\"\n",
    "        Returns:\n",
    "        DataFrame: A pivot table for weekly average attendance for the selected\n",
    "        modules for the given student.\n",
    "        \"\"\"\n",
    "        selected_student_df = self.get_selected_student_df()\n",
    "        pivot_table = pd.pivot_table(selected_student_df,\n",
    "                                     values=\"att\",\n",
    "                                     index=\"week\",\n",
    "                                     columns=\"module\",\n",
    "                                     aggfunc=np.mean\n",
    "                                     )\n",
    "        pivot_table = pivot_table * 100\n",
    "        pivot_table = pivot_table.round(0)\n",
    "        return pivot_table\n",
    "\n",
    "    def get_color_list(self):\n",
    "        \"\"\"\n",
    "        returns a list of color codes for the cells of a pivot table.\n",
    "        \"\"\"\n",
    "        cellcolors = []\n",
    "        for row in range(self.pivot_table.shape[0]):\n",
    "            row_colors = []\n",
    "            for col in range(self.pivot_table.shape[1]):\n",
    "                if self.pivot_table.iloc[row, col] <= 50:\n",
    "                    row_colors.append(\"#DB3236\")\n",
    "                elif 50 < self.pivot_table.iloc[row, col] <= 75:\n",
    "                    row_colors.append(\"#F4C20D\")\n",
    "                elif 75 < self.pivot_table.iloc[row, col] <= 100:\n",
    "                    row_colors.append(\"#3CBA54\")\n",
    "                else:\n",
    "                    row_colors.append(\"#FFFFFF\")\n",
    "\n",
    "            cellcolors.append(row_colors)\n",
    "        return cellcolors\n",
    "\n",
    "    def plot(self):\n",
    "        \"\"\"\n",
    "        returns:\n",
    "        matplotlib.figure: Plot having table and a bargraph as subplots.\n",
    "        \"\"\"\n",
    "        cell_colors = self.get_color_list()\n",
    "        gs_kw = dict(width_ratios=[1, 1.4])\n",
    "        fig, ax = plt.subplots(1, 2, gridspec_kw=gs_kw)\n",
    "        ax[0].axis('off')\n",
    "        ax[0].axis('tight')\n",
    "        ax[0].table(cellText=self.pivot_table.values,\n",
    "                    cellColours=cell_colors,\n",
    "                    rowLabels=self.pivot_table.index,\n",
    "                    colLabels=self.pivot_table.columns, loc='center'\n",
    "                    )\n",
    "        ax[1].set_ylabel(\"Attendance%\")\n",
    "        plt.subplots_adjust(wspace=0.3)\n",
    "        self.pivot_table.plot(kind=\"bar\", ax=ax[1])\n",
    "        return fig\n",
    "\n",
    "\n",
    "\n"
   ]
  },
  {
   "cell_type": "markdown",
   "id": "24662d7c",
   "metadata": {},
   "source": [
    "### Testing"
   ]
  },
  {
   "cell_type": "code",
   "execution_count": 29,
   "id": "044c5d0a",
   "metadata": {},
   "outputs": [],
   "source": [
    "def main_py():\n",
    "    \"\"\"\n",
    "    This function will be executed if the file is run as a standalone\n",
    "    .py script.\n",
    "    \"\"\"\n",
    "    student_id = int(input(\"Please Enter Student ID\"))\n",
    "    StudentAtt(student_id=[student_id],\n",
    "               modules_selected=get_modules_list()\n",
    "               ).plot()\n",
    "\n",
    "\n",
    "def main_ipynb(sid):\n",
    "    \"\"\"\n",
    "    This function will be executed if the file is run as a standalone\n",
    "    .ipynb script.\n",
    "    \"\"\"\n",
    "    StudentAtt(student_id=[sid],\n",
    "               modules_selected=get_modules_list()\n",
    "               ).plot()\n",
    "\n",
    "\n"
   ]
  },
  {
   "cell_type": "code",
   "execution_count": 30,
   "id": "63480fc0",
   "metadata": {},
   "outputs": [
    {
     "data": {
      "application/vnd.jupyter.widget-view+json": {
       "model_id": "988e8783d113429fb8d34d90da818a1d",
       "version_major": 2,
       "version_minor": 0
      },
      "text/plain": [
       "Text(value='', description='Student ID:')"
      ]
     },
     "metadata": {},
     "output_type": "display_data"
    },
    {
     "data": {
      "application/vnd.jupyter.widget-view+json": {
       "model_id": "2a969efecbca4d33b062549168d01065",
       "version_major": 2,
       "version_minor": 0
      },
      "text/plain": [
       "Button(description='Display', style=ButtonStyle())"
      ]
     },
     "metadata": {},
     "output_type": "display_data"
    }
   ],
   "source": [
    "if __name__ == \"__main__\":\n",
    "    \"\"\"\n",
    "    The script checks if the script is running in an ipython environment or \n",
    "    not and calls the appropriate main function. \n",
    "    \"\"\"\n",
    "    shell = get_ipython()\n",
    "    if type(shell).__name__ == 'ZMQInteractiveShell':\n",
    "        ipython = get_ipython()\n",
    "        ipython.run_line_magic(\"matplotlib\", \"qt\")\n",
    "        sid_entry = widgets.Text(description='Student ID:')\n",
    "        display(sid_entry)\n",
    "        button = widgets.Button(description='Display')\n",
    "        display(button)\n",
    "\n",
    "\n",
    "        def on_button_clicked(b):\n",
    "            sid = int(sid_entry.value)\n",
    "            main_ipynb(sid)\n",
    "\n",
    "\n",
    "        button.on_click(on_button_clicked)\n",
    "\n",
    "    else:\n",
    "        main_py()"
   ]
  }
 ],
 "metadata": {
  "kernelspec": {
   "display_name": "Python 3 (ipykernel)",
   "language": "python",
   "name": "python3"
  },
  "language_info": {
   "codemirror_mode": {
    "name": "ipython",
    "version": 3
   },
   "file_extension": ".py",
   "mimetype": "text/x-python",
   "name": "python",
   "nbconvert_exporter": "python",
   "pygments_lexer": "ipython3",
   "version": "3.8.5"
  }
 },
 "nbformat": 4,
 "nbformat_minor": 5
}
