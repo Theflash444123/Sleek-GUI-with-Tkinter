{
 "cells": [
  {
   "cell_type": "code",
   "execution_count": 64,
   "id": "4e04f1cc",
   "metadata": {},
   "outputs": [
    {
     "data": {
      "application/vnd.jupyter.widget-view+json": {
       "model_id": "08795a140f2548bba02ff618b3f2a37b",
       "version_major": 2,
       "version_minor": 0
      },
      "text/plain": [
       "Dropdown(options=('22COA111', '22COA122'), value='22COA111')"
      ]
     },
     "metadata": {},
     "output_type": "display_data"
    },
    {
     "data": {
      "application/vnd.jupyter.widget-view+json": {
       "model_id": "29bed84a56ac4b4aaef362d449370efa",
       "version_major": 2,
       "version_minor": 0
      },
      "text/plain": [
       "Dropdown(options=('W1', 'W2', 'W3', 'W4', 'W5'), value='W1')"
      ]
     },
     "metadata": {},
     "output_type": "display_data"
    }
   ],
   "source": [
    "import pandas as pd\n",
    "import numpy as np\n",
    "import matplotlib.pyplot as plt\n",
    "import ipynb\n",
    "from ipynb.fs.defs.CW_Preprocessing import *\n",
    "from ipywidgets import widgets\n",
    "\n",
    "\n",
    "def get_module_att_fig(module_name, week_list):\n",
    "\n",
    "    att_df = ModuleRecord(module_name).wide_to_long()\n",
    "    att_df = att_df[att_df.week.isin(week_list)]\n",
    "\n",
    "    gb_att_df = att_df.groupby([\"time\", \"lab_code\", \"session_type\"], as_index=False)\n",
    "    module_att_table = gb_att_df.agg({\"att\": \"mean\"})\n",
    "    module_att_table[\"att\"] = (module_att_table[\"att\"]*100).round(1)\n",
    "\n",
    "    cellcolors = []\n",
    "    for row in range(module_att_table.shape[0]):\n",
    "        row_colors = []\n",
    "        for col in range(module_att_table.shape[1]):\n",
    "            if col ==3:\n",
    "                if module_att_table.iloc[row, col] <= 25:\n",
    "                    row_colors.append(\"#DB3236\")\n",
    "                elif 25 < module_att_table.iloc[row, col] <= 75:\n",
    "                    row_colors.append(\"#F4C20D\")\n",
    "                elif 75 < module_att_table.iloc[row, col] <= 100:\n",
    "                    row_colors.append(\"#3CBA54\")\n",
    "                else:\n",
    "                    row_colors.append(\"#FFFFFF\")\n",
    "            else:\n",
    "                row_colors.append(\"#FFFFFF\")\n",
    "        cellcolors.append(row_colors)\n",
    "\n",
    "    fig, ax = plt.subplots()\n",
    "    ax.axis('off')\n",
    "    ax.axis('tight')\n",
    "    ax.table(cellText=module_att_table.values, cellColours=cellcolors, colLabels=module_att_table.columns, loc='center')\n",
    "\n",
    "    return fig\n",
    "\n",
    "\n",
    "def main_py():\n",
    "    \"\"\"\n",
    "    this will be execute if this file is converted to py file\n",
    "    \"\"\"\n",
    "    module = input(\"Please Enter Module\")\n",
    "    week = input(\"Please Enter Week\")\n",
    "    get_module_att_fig(module, [week])\n",
    "\n",
    "def main_ipynb():\n",
    "    \"\"\"\n",
    "    For Jupyter notebook\n",
    "    \"\"\"\n",
    "    module = module_dd.value\n",
    "    week = week_dd.value\n",
    "    get_module_att_fig(module, [week])\n",
    "\n",
    "\n",
    "if __name__ == \"__main__\":\n",
    "    try:\n",
    "        %matplotlib qt\n",
    "        # modules dropdown\n",
    "        module_list = get_modules_list()\n",
    "        module_dd = widgets.Dropdown(options=module_list)\n",
    "        display(module_dd)\n",
    "\n",
    "        # weeks dropdown\n",
    "        week_list = ModuleRecord(module_dd.value).get_module_weeks()\n",
    "        week_dd = widgets.Dropdown(options=week_list)\n",
    "        display(week_dd)\n",
    "\n",
    "        # weeks dropdown update\n",
    "        def update_week_dd(*args):\n",
    "            week_list = ModuleRecord(module_dd.value).get_module_weeks()\n",
    "            week_dd.options = week_list\n",
    "\n",
    "\n",
    "        module_dd.observe(update_week_dd, 'value')\n",
    "\n",
    "        def on_select_week_dd(change):\n",
    "            if module_dd.value is not None and change.new is not None:\n",
    "                main_ipynb()\n",
    "\n",
    "        week_dd.observe(on_select_week_dd, 'value')\n",
    "\n",
    "    except:\n",
    "        main_py()\n",
    "    "
   ]
  }
 ],
 "metadata": {
  "kernelspec": {
   "display_name": "Python 3 (ipykernel)",
   "language": "python",
   "name": "python3"
  },
  "language_info": {
   "codemirror_mode": {
    "name": "ipython",
    "version": 3
   },
   "file_extension": ".py",
   "mimetype": "text/x-python",
   "name": "python",
   "nbconvert_exporter": "python",
   "pygments_lexer": "ipython3",
   "version": "3.8.5"
  }
 },
 "nbformat": 4,
 "nbformat_minor": 5
}
