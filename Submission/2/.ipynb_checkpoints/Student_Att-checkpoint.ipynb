{
 "cells": [
  {
   "cell_type": "code",
   "execution_count": 1,
   "id": "f06ff9ca",
   "metadata": {},
   "outputs": [
    {
     "name": "stdout",
     "output_type": "stream",
     "text": [
      "Please Enter Student ID23\n",
      "plotting\n"
     ]
    },
    {
     "data": {
      "image/png": "[encoded data removed]",
      "text/plain": [
       "<Figure size 640x480 with 2 Axes>"
      ]
     },
     "metadata": {},
     "output_type": "display_data"
    }
   ],
   "source": [
    "import pandas as pd\n",
    "import matplotlib.pyplot as plt\n",
    "import numpy as np\n",
    "\n",
    "# from CW_Preprocessing import *\n",
    "import ipynb\n",
    "from ipynb.fs.defs.CW_Preprocessing import *\n",
    "\n",
    "\n",
    "class StudentAtt:\n",
    "    def __init__(self, student_id, modules_selected):\n",
    "        self.sid = student_id\n",
    "        self.modules_selected = modules_selected\n",
    "        self.pivot_table = self.pivot_table()\n",
    "\n",
    "    def get_selected_modules_df(self):\n",
    "        selected_modules_df = pd.DataFrame()\n",
    "        for module in self.modules_selected:\n",
    "            att_df = ModuleRecord(module).wide_to_long()\n",
    "            selected_modules_df = pd.concat([selected_modules_df, att_df])\n",
    "\n",
    "        selected_modules_df = selected_modules_df[selected_modules_df.sid.isin(self.sid)]\n",
    "        return selected_modules_df\n",
    "\n",
    "    def pivot_table(self):\n",
    "        selected_modules_df = self.get_selected_modules_df()\n",
    "        pivot_table = pd.pivot_table(selected_modules_df,\n",
    "                                     values=\"att\",\n",
    "                                     index=\"week\",\n",
    "                                     columns=\"module\",\n",
    "                                     aggfunc=np.mean\n",
    "                                     )\n",
    "        pivot_table = pivot_table * 100\n",
    "        pivot_table = pivot_table.round(0)\n",
    "        return pivot_table\n",
    "\n",
    "    def get_color_list(self):\n",
    "        cellcolors = []\n",
    "        for row in range(self.pivot_table.shape[0]):\n",
    "            row_colors = []\n",
    "            for col in range(self.pivot_table.shape[1]):\n",
    "                if self.pivot_table.iloc[row, col] <= 25:\n",
    "                    row_colors.append(\"#DB3236\")\n",
    "                elif 25 < self.pivot_table.iloc[row, col] <= 75:\n",
    "                    row_colors.append(\"#F4C20D\")\n",
    "                elif 75 < self.pivot_table.iloc[row, col] <= 100:\n",
    "                    row_colors.append(\"#3CBA54\")\n",
    "                else:\n",
    "                    row_colors.append(\"#FFFFFF\")\n",
    "\n",
    "            cellcolors.append(row_colors)\n",
    "        return cellcolors\n",
    "\n",
    "    def plot(self):\n",
    "        print(\"plotting\")\n",
    "        cell_colors = self.get_color_list()\n",
    "        gs_kw = dict(width_ratios=[1, 1.4])\n",
    "        fig, ax = plt.subplots(1, 2, gridspec_kw=gs_kw)\n",
    "        ax[0].axis('off')\n",
    "        ax[0].axis('tight')\n",
    "        ax[0].table(cellText=self.pivot_table.values, cellColours=cell_colors, rowLabels=self.pivot_table.index,\n",
    "                    colLabels=self.pivot_table.columns, loc='center'\n",
    "                    )\n",
    "        # ax[1].set_ylabel(\"Attendance%\")\n",
    "        self.pivot_table.plot(kind=\"bar\", ax=ax[1])\n",
    "        return fig\n",
    "\n",
    "\n",
    "def get_student_att_fig(sid, modules_selected):\n",
    "    selected_modules_df = pd.DataFrame()\n",
    "    for module in modules_selected:\n",
    "        att_df = ModuleRecord(module).wide_to_long()\n",
    "        selected_modules_df = pd.concat([selected_modules_df, att_df])\n",
    "\n",
    "    selected_modules_df = selected_modules_df[selected_modules_df.sid.isin(sid)]\n",
    "\n",
    "    pivot_table = pd.pivot_table(selected_modules_df,\n",
    "                           values=\"att\",\n",
    "                           index=\"week\",\n",
    "                           columns=\"module\",\n",
    "                           aggfunc=np.mean\n",
    "                               )\n",
    "    pivot_table = pivot_table*100\n",
    "    pivot_table = pivot_table.round(0)\n",
    "\n",
    "    cellcolors = []\n",
    "    for row in range(pivot_table.shape[0]):\n",
    "        row_colors = []\n",
    "        for col in range(pivot_table.shape[1]):\n",
    "            if pivot_table.iloc[row, col] <= 25:\n",
    "                row_colors.append(\"#DB3236\")\n",
    "            elif 25 < pivot_table.iloc[row, col] <= 75:\n",
    "                row_colors.append(\"#F4C20D\")\n",
    "            elif 75 < pivot_table.iloc[row, col] <= 100:\n",
    "                row_colors.append(\"#3CBA54\")\n",
    "            else:\n",
    "                row_colors.append(\"#FFFFFF\")\n",
    "\n",
    "        cellcolors.append(row_colors)\n",
    "\n",
    "    gs_kw = dict(width_ratios=[1, 1.4])\n",
    "    fig, ax = plt.subplots(1, 2, gridspec_kw=gs_kw)\n",
    "    ax[0].axis('off')\n",
    "    ax[0].axis('tight')\n",
    "    ax[0].table(cellText=pivot_table.values, cellColours=cellcolors, rowLabels=pivot_table.index, colLabels=pivot_table.columns, loc='center')\n",
    "    # ax[1].set_ylabel(\"Attendance%\")\n",
    "    pivot_table.plot(kind=\"bar\", ax=ax[1])\n",
    "\n",
    "    return fig\n",
    "\n",
    "\n",
    "def main():\n",
    "    student_id = int(input(\"Please Enter Student ID\"))\n",
    "    StudentAtt(student_id=[student_id],\n",
    "               modules_selected=get_modules_list()\n",
    "               ).plot()\n",
    "\n",
    "\n",
    "if __name__ == \"__main__\":\n",
    "    main()\n"
   ]
  },
  {
   "cell_type": "code",
   "execution_count": 2,
   "id": "b0fadd47",
   "metadata": {},
   "outputs": [
    {
     "data": {
      "text/plain": [
       "['22COA111', '22COA122']"
      ]
     },
     "execution_count": 2,
     "metadata": {},
     "output_type": "execute_result"
    }
   ],
   "source": [
    "get_modules_list()"
   ]
  }
 ],
 "metadata": {
  "kernelspec": {
   "display_name": "Python 3 (ipykernel)",
   "language": "python",
   "name": "python3"
  },
  "language_info": {
   "codemirror_mode": {
    "name": "ipython",
    "version": 3
   },
   "file_extension": ".py",
   "mimetype": "text/x-python",
   "name": "python",
   "nbconvert_exporter": "python",
   "pygments_lexer": "ipython3",
   "version": "3.8.5"
  }
 },
 "nbformat": 4,
 "nbformat_minor": 5
}
